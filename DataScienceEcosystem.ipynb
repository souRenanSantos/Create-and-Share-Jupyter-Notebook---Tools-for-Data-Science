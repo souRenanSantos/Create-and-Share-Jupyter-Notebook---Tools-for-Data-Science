{
 "cells": [
  {
   "cell_type": "markdown",
   "id": "386d606f-96ea-4169-8478-04508432deeb",
   "metadata": {},
   "source": [
    "# Data Science Tools and Ecosystem"
   ]
  },
  {
   "cell_type": "markdown",
   "id": "2f53f8a5-4994-43f8-98f4-66bf1ef16ac6",
   "metadata": {},
   "source": [
    "#### Exercise 3 - Create a markdown cell for an introduction\n",
    "\n",
    "Write an introductory sentence about the notebook such as the follows:\n",
    "\n",
    "```In this notebook, Data Science Tools and Ecosystem are summarized.```\\\n",
    "**Take a screenshot of the markdown cell and name it as ```3-intro.png``` (Images can be saved with either the .jpg or .png extension.)**"
   ]
  },
  {
   "cell_type": "markdown",
   "id": "5f7955ae-b3a4-408d-a4fd-4787829e7118",
   "metadata": {},
   "source": [
    "In this notebook, Data Science Tools and Ecosystem are summarized"
   ]
  },
  {
   "cell_type": "markdown",
   "id": "3c4390ec-c1f8-4d9b-9f62-1f2fc397cea1",
   "metadata": {},
   "source": [
    "**Objectives:**\n",
    "\n",
    "* List popular languages for Data Science\n",
    "* List commonly used libraries in Data Science\n",
    "* List open source development environments used in Data Science"
   ]
  },
  {
   "cell_type": "markdown",
   "id": "b80c9333-ef42-4857-8f32-b4bd9b62f68b",
   "metadata": {
    "tags": []
   },
   "source": [
    "#### Exercise 4 - Create a markdown cell to list data science languages\n",
    "\n",
    "Start the cell with an overview line such as:\n",
    "\n",
    "`Some of the popular languages that Data Scientists use are:`\\\n",
    "Then create an `ordered list` (i.e. numbered) listing 3 (or more) commonly used languages for data science.\\\n",
    "**Take a screenshot of the markdown cell and name it as `4-dslanguages.png` (Images can be saved with either the .jpg or .png extension.)**"
   ]
  },
  {
   "cell_type": "markdown",
   "id": "3b3369b4-bac7-4872-b96a-2140a58b347b",
   "metadata": {
    "tags": []
   },
   "source": [
    "Some of the popular languages that Data Scientist use are:\n",
    "1. Python\n",
    "2. R\n",
    "3. SQL\n",
    "4. Julia"
   ]
  },
  {
   "cell_type": "markdown",
   "id": "8ecc53f1-51d7-476b-9dd7-db7975de5f44",
   "metadata": {},
   "source": [
    "#### Exercise 5 - Create a markdown cell to list data science libraries\n",
    "\n",
    "Add an overview line to the cell like:\n",
    "\n",
    "`Some of the commonly used libraries used by Data Scientists include:`\\\n",
    "Below this line add an `ordered list` listing 3 (or more) commonly used libraries in data science.\\\n",
    "**Take a screenshot of the markdown cell and name it as `5-dslibraries.png` (Images can be saved with either the .jpg or .png extension.)**"
   ]
  },
  {
   "cell_type": "markdown",
   "id": "b1b50ebd-d7a1-41c2-949b-41c409e933ca",
   "metadata": {},
   "source": [
    "Some of commonly used libraries used by Data Scientist include:\n",
    "1. Pandas\n",
    "2. NumPy\n",
    "3. Matplotlib\n",
    "4. Seaborn\n",
    "5. Scikit-learn"
   ]
  },
  {
   "cell_type": "markdown",
   "id": "0c512bea-b4ab-4704-8c1d-a65b33c92c1c",
   "metadata": {},
   "source": [
    "#### Exercise 6 - Create a markdown cell with a table of Data Science tools\n",
    "\n",
    "Create a single column table in this cell with the first row containing the header `Data Science Tools`. The subsequent three rows in the table should indicate three development environment open source tools used in data science.\n",
    "\n",
    "**Take a screenshot of the markdown cell and name it as `6-dstools.png` (Images can be saved with either the .jpg or .png extension.)** \\\n",
    "Hint: Refer to **Lab: Using Markdowns in Jupyter Notebooks** to create a table."
   ]
  },
  {
   "cell_type": "markdown",
   "id": "a9c9fc74-d8aa-427e-ab91-41ed8526662e",
   "metadata": {},
   "source": [
    "| Data Science Tools |\n",
    "| ----- |\n",
    "| Jupyter |\n",
    "| RStudio |\n",
    "| Spyder |"
   ]
  },
  {
   "cell_type": "markdown",
   "id": "61081dff-a04b-41d0-98b2-8d53e55944cf",
   "metadata": {},
   "source": [
    "#### Exercise 7 - Create a markdown cell introducing arithmetic expression examples\n",
    "\n",
    "Add a line in this cell with H3 style heading with text like:\n",
    "\n",
    "`Below are a few examples of evaluating arithmetic expressions in Python.`\\\n",
    "**Take a screenshot of the markdown cell and name it as `7-introarithmetic.png` (Images can be saved with either the .jpg or .png extension.)**"
   ]
  },
  {
   "cell_type": "markdown",
   "id": "7e9654b9-3619-4991-9996-a4fe5a9ac215",
   "metadata": {
    "tags": []
   },
   "source": [
    "### Below are a few examples of evaluating arithmetic expressions in Python"
   ]
  },
  {
   "cell_type": "markdown",
   "id": "7f05c3f4-7501-439c-9fd4-3b7d3faf12b9",
   "metadata": {
    "tags": []
   },
   "source": [
    "#### Exercise 8 - Create a code cell to multiply and add numbers\n",
    "\n",
    "In this code cell evaluate the expression `(3*4)+5`.\\\n",
    "Insert a comment line before the expression to explain the operation e.g.  `This a simple arithmetic expression to mutiply then add integers`.\\\n",
    "Then execute the cell to ensure the expression returns the expected output of `17`.\\\n",
    "**Take a screenshot of the code cell with output and name it as `8-multiplyandaddintegers.png` (Images can be saved with either the .jpg or .png extension.)**"
   ]
  },
  {
   "cell_type": "code",
   "execution_count": 4,
   "id": "340a43c8-120a-4d51-b238-d18fc603e3b1",
   "metadata": {
    "tags": []
   },
   "outputs": [
    {
     "data": {
      "text/plain": [
       "17"
      ]
     },
     "execution_count": 4,
     "metadata": {},
     "output_type": "execute_result"
    }
   ],
   "source": [
    "# This a simple arithmetic expression to mutiply then add integers\n",
    "(3*4)+5"
   ]
  },
  {
   "cell_type": "markdown",
   "id": "dce21fc4-3d09-44a7-a4b1-c9cb717d42d4",
   "metadata": {},
   "source": [
    "#### Exercise 9 - Create a code cell to convert minutes to hours\n",
    "\n",
    "In this code cell write an expression that converts `200 minutes` into `hours`.\\\n",
    "Insert a comment line before the expression to explain the operation e.g.  `This will convert 200 minutes to hours by diving by 60`.\\\n",
    "Run the cell to evaluate the expression.\\\n",
    "**Take a screenshot of the code cell with output and name it as `9-hourstominutes.png` (Images can be saved with either the .jpg or .png extension.)**"
   ]
  },
  {
   "cell_type": "code",
   "execution_count": 6,
   "id": "723f09e3-b3fa-4137-8be0-4a94d84a15de",
   "metadata": {
    "tags": []
   },
   "outputs": [
    {
     "name": "stdout",
     "output_type": "stream",
     "text": [
      "3.3333333333333335\n"
     ]
    }
   ],
   "source": [
    "# This will convert 200 minutes to hours by diving by 60\n",
    "\n",
    "minutes = 200\n",
    "hours = 200 / 60\n",
    "\n",
    "print(hours)"
   ]
  },
  {
   "cell_type": "markdown",
   "id": "4b84d90a-47a2-4aac-ba42-b0270c177e94",
   "metadata": {},
   "source": [
    "#### Exercise 10 - Insert a markdown cell to list Objectives\n",
    "\n",
    "Below the introduction cell created in Exercise 3, insert a new markdown cell to list the objectives that this notebook covered (i.e. some of the key takeaways from the course). In this new cell start with an introductory line titled: `Objectives:` in bold font. Then using an `unordered list` (bullets) indicate 3 to 5 items covered in this notebook, such as `List popular languages for Data Science`.\\\n",
    "**Take a screenshot of the markdown cell and name it as `10-objectives.png` (Images can be saved with either the .jpg or .png extension.)**"
   ]
  },
  {
   "cell_type": "markdown",
   "id": "cb45b92c-adea-47c6-88fc-5055f44010df",
   "metadata": {},
   "source": [
    "#### Exercise 11 - Create a markdown cell to indicate the Author's name\n",
    "\n",
    "In this markdown cell markdown cell include the following text `Author` in `H2 style heading`. Include your `name` as regular text below the word `Author`.\\\n",
    "**Take a screenshot of the markdown cell and name it as `11-authordetails.png` (Images can be saved with either the .jpg or .png extension.)**"
   ]
  },
  {
   "cell_type": "markdown",
   "id": "66b1759c-667b-42d3-a37d-a3111e46fadb",
   "metadata": {},
   "source": [
    "## Author\n",
    "Renan Santos"
   ]
  },
  {
   "cell_type": "markdown",
   "id": "079184ed-620a-4674-8e64-bc3b7f5b1fe5",
   "metadata": {},
   "source": [
    "#### Exercise 12 - Share your notebook through GitHub\n",
    "\n",
    "Upload your notebook to a public respository on GitHub.\\\n",
    "\n",
    ">Note : Please keep the **GitHub repo link** of the notebook handy.\\\n",
    "You will need to submit this link as a part of the assignment evaluation.\n",
    "\n",
    "Hint: Refer to **Lab: Working with files in Jupyter Notebooks** to download the notebook from **SN Labs**."
   ]
  },
  {
   "cell_type": "markdown",
   "id": "66e0e3ea-1ff2-4dc1-9c71-15bfa116feca",
   "metadata": {},
   "source": [
    "#### Exercise 13 -Take a screenshot of the first page of the notebook and save it as `1-notebook.png`(Images can be saved with either the .jpg or .png extension.)\n",
    "\n",
    "Refer to **Hands-on Lab: Getting Started with GitHub** to upload the downloaded notebook to **GitHub**."
   ]
  }
 ],
 "metadata": {
  "kernelspec": {
   "display_name": "Python 3 (ipykernel)",
   "language": "python",
   "name": "python3"
  },
  "language_info": {
   "codemirror_mode": {
    "name": "ipython",
    "version": 3
   },
   "file_extension": ".py",
   "mimetype": "text/x-python",
   "name": "python",
   "nbconvert_exporter": "python",
   "pygments_lexer": "ipython3",
   "version": "3.11.5"
  }
 },
 "nbformat": 4,
 "nbformat_minor": 5
}
